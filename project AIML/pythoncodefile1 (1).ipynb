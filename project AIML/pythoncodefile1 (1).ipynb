{
  "nbformat": 4,
  "nbformat_minor": 0,
  "metadata": {
    "colab": {
      "provenance": []
    },
    "kernelspec": {
      "name": "python3",
      "display_name": "Python 3"
    },
    "language_info": {
      "name": "python"
    }
  },
  "cells": [
    {
      "cell_type": "code",
      "execution_count": 4,
      "metadata": {
        "colab": {
          "base_uri": "https://localhost:8080/"
        },
        "id": "2JZ_uemhxSrC",
        "outputId": "19e75cda-3ef9-4dea-ab48-dd56a41f0839"
      },
      "outputs": [
        {
          "output_type": "stream",
          "name": "stdout",
          "text": [
            "\n",
            "Depth: 1\n",
            "5 \n",
            "Depth: 2\n",
            "5 3 7 \n",
            "Depth: 3\n",
            "5 3 2 4 7 8 \n",
            "Depth: 4\n",
            "5 3 2 4 8 7 "
          ]
        },
        {
          "output_type": "execute_result",
          "data": {
            "text/plain": [
              "False"
            ]
          },
          "metadata": {},
          "execution_count": 4
        }
      ],
      "source": [
        "def dls(node, depth, graph, visited):\n",
        "    if depth == 0:\n",
        "        return False\n",
        "    if node not in visited:\n",
        "        print(node, end=\" \")\n",
        "        visited.append(node)\n",
        "        for neighbour in graph[node]:\n",
        "            if neighbour not in visited:\n",
        "                if dls(neighbour, depth - 1, graph, visited):\n",
        "                    return True\n",
        "    return False\n",
        "\n",
        "def ids(graph, start, max_depth):\n",
        "    for depth in range(1, max_depth + 1):\n",
        "        print(f\"\\nDepth: {depth}\")\n",
        "        visited = []\n",
        "        if dls(start, depth, graph, visited):\n",
        "            return True\n",
        "    return False\n",
        "graph = {\n",
        "    '5': ['3', '7'],\n",
        "    '3': ['2', '4'],\n",
        "    '7': ['8'],\n",
        "    '2': [],\n",
        "    '4': ['8'],\n",
        "    '8': []\n",
        "}\n",
        "\n",
        "start_node = '5'\n",
        "max_depth = 4\n",
        "ids(graph, start_node, max_depth)"
      ]
    },
    {
      "cell_type": "code",
      "source": [
        "def dfs(visited, graph, node):\n",
        "    stack=[]\n",
        "    stack.append(node)\n",
        "    while stack:\n",
        "        m=stack.pop()\n",
        "        if m not in visited:\n",
        "            print(m,end=\" \")\n",
        "            visited.append(m)\n",
        "            for neighbour in graph[m]:\n",
        "                if neighbour not in visited:\n",
        "                    stack.append(neighbour)\n",
        "visited=[]\n",
        "print(\"Graph using DFS:\")\n",
        "dfs(visited, graph,'5')"
      ],
      "metadata": {
        "colab": {
          "base_uri": "https://localhost:8080/"
        },
        "id": "2zCFATn3y3YN",
        "outputId": "a7b888a8-8403-4ed0-e9b0-cdead0070a66"
      },
      "execution_count": 6,
      "outputs": [
        {
          "output_type": "stream",
          "name": "stdout",
          "text": [
            "Graph using DFS:\n",
            "5 7 8 3 4 2 "
          ]
        }
      ]
    },
    {
      "cell_type": "code",
      "source": [
        "import heapq\n",
        "\n",
        "def a_star_search(graph, start, goal, h):\n",
        "    open_list = []\n",
        "    heapq.heappush(open_list, (0 + h[start], 0, start))\n",
        "    came_from = {}\n",
        "    cost_so_far = {start: 0}\n",
        "    while open_list:\n",
        "        _, current_cost, current_node = heapq.heappop(open_list)\n",
        "        print(current_node, end=\" \")\n",
        "        if current_node == goal:\n",
        "            print(\"\\nGoal found!\")\n",
        "            return True\n",
        "        for neighbor, cost in graph[current_node]:\n",
        "            new_cost = current_cost + cost\n",
        "            if neighbor not in cost_so_far or new_cost < cost_so_far[neighbor]:\n",
        "                cost_so_far[neighbor] = new_cost\n",
        "                priority = new_cost + h[neighbor]\n",
        "                heapq.heappush(open_list, (priority, new_cost, neighbor))\n",
        "                came_from[neighbor] = current_node\n",
        "    print(\"\\nGoal not found.\")\n",
        "    return False\n",
        "\n",
        "graph = {\n",
        "    'A': [('B', 1), ('C', 3)],\n",
        "    'B': [('D', 5), ('E', 2)],\n",
        "    'C': [('F', 2)],\n",
        "    'D': [],\n",
        "    'E': [('G', 5)],\n",
        "    'F': [('G', 1)],\n",
        "    'G': []\n",
        "}\n",
        "\n",
        "h = {\n",
        "    'A': 7,\n",
        "    'B': 6,\n",
        "    'C': 4,\n",
        "    'D': 9,\n",
        "    'E': 5,\n",
        "    'F': 3,\n",
        "    'G': 0\n",
        "}\n",
        "\n",
        "print(\"A* Search:\")\n",
        "a_star_search(graph, 'A', 'G', h)"
      ],
      "metadata": {
        "colab": {
          "base_uri": "https://localhost:8080/"
        },
        "id": "wwwQw4v4zZAm",
        "outputId": "f311ad56-2432-413d-dbd8-e523f28a855e"
      },
      "execution_count": 8,
      "outputs": [
        {
          "output_type": "stream",
          "name": "stdout",
          "text": [
            "A* Search:\n",
            "A B C E F G \n",
            "Goal found!\n"
          ]
        },
        {
          "output_type": "execute_result",
          "data": {
            "text/plain": [
              "True"
            ]
          },
          "metadata": {},
          "execution_count": 8
        }
      ]
    },
    {
      "cell_type": "code",
      "source": [
        "import heapq\n",
        "\n",
        "def best_first_search(graph, start, goal, h):\n",
        "    open_list = []\n",
        "    heapq.heappush(open_list, (h[start], start))\n",
        "    visited = set()\n",
        "    while open_list:\n",
        "        _, current_node = heapq.heappop(open_list)\n",
        "        print(current_node, end=\" \")\n",
        "        if current_node == goal:\n",
        "            print(\"\\nGoal found!\")\n",
        "            return True\n",
        "        visited.add(current_node)\n",
        "        for neighbor, cost in graph[current_node]:\n",
        "            if neighbor not in visited:\n",
        "                heapq.heappush(open_list, (h[neighbor], neighbor))\n",
        "    print(\"\\nGoal not found.\")\n",
        "\n",
        "graph = {\n",
        "    'A': [('B', 1), ('C', 3)],\n",
        "    'B': [('D', 5), ('E', 2)],\n",
        "    'C': [('F', 2)],\n",
        "    'D': [],\n",
        "    'E': [('G', 5)],\n",
        "    'F': [('G', 1)],\n",
        "    'G': []\n",
        "}\n",
        "\n",
        "h = {\n",
        "    'A': 7,\n",
        "    'B': 6,\n",
        "    'C': 4,\n",
        "    'D': 9,\n",
        "    'E': 5,\n",
        "    'F': 3,\n",
        "    'G': 0\n",
        "}\n",
        "\n",
        "print(\"Best First Search:\")\n",
        "best_first_search(graph, 'A', 'G', h)"
      ],
      "metadata": {
        "colab": {
          "base_uri": "https://localhost:8080/"
        },
        "id": "SXuBvetK0BIp",
        "outputId": "7b6479a2-bdb8-48a9-b78c-cd886a97546d"
      },
      "execution_count": 10,
      "outputs": [
        {
          "output_type": "stream",
          "name": "stdout",
          "text": [
            "Best First Search:\n",
            "A C F G \n",
            "Goal found!\n"
          ]
        },
        {
          "output_type": "execute_result",
          "data": {
            "text/plain": [
              "True"
            ]
          },
          "metadata": {},
          "execution_count": 10
        }
      ]
    },
    {
      "cell_type": "code",
      "source": [
        "def minimax(position, depth, is_maximizing, scores, max_depth):\n",
        "    if depth == max_depth:\n",
        "        return scores[position]\n",
        "    if is_maximizing:\n",
        "        best_score = float('-inf')\n",
        "        for child in get_children(position):\n",
        "            score = minimax(child, depth + 1, False, scores, max_depth)\n",
        "            best_score = max(best_score, score)\n",
        "        return best_score\n",
        "    else:\n",
        "        best_score = float('inf')\n",
        "        for child in get_children(position):\n",
        "            score = minimax(child, depth + 1, True, scores, max_depth)\n",
        "            best_score = min(best_score, score)\n",
        "        return best_score\n",
        "\n",
        "scores = {'A': 3, 'B': 5, 'C': 2, 'D': 9, 'E': 12, 'F': 5, 'G': 23}\n",
        "max_depth = 2\n",
        "\n",
        "def get_children(node):\n",
        "    if node == 'A':\n",
        "        return ['B', 'C']\n",
        "    elif node == 'B':\n",
        "        return ['D', 'E']\n",
        "    elif node == 'C':\n",
        "        return ['F', 'G']\n",
        "    else:\n",
        "        return []\n",
        "\n",
        "print(\"Minimax Score:\", minimax('A', 0, True, scores, max_depth))"
      ],
      "metadata": {
        "colab": {
          "base_uri": "https://localhost:8080/"
        },
        "id": "6m3zqBsE0nJ4",
        "outputId": "225c273c-97a5-4c04-a1ac-a1426d5bfbda"
      },
      "execution_count": 12,
      "outputs": [
        {
          "output_type": "stream",
          "name": "stdout",
          "text": [
            "Minimax Score: 9\n"
          ]
        }
      ]
    },
    {
      "cell_type": "code",
      "source": [
        "def alpha_beta(position, depth, alpha, beta, is_maximizing, scores, max_depth):\n",
        "    if depth == max_depth:\n",
        "        return scores[position]\n",
        "    if is_maximizing:\n",
        "        max_eval = float('-inf')\n",
        "        for child in get_children(position):\n",
        "            eval = alpha_beta(child, depth + 1, alpha, beta, False, scores, max_depth)\n",
        "            max_eval = max(max_eval, eval)\n",
        "            alpha = max(alpha, eval)\n",
        "            if beta <= alpha:\n",
        "                break\n",
        "        return max_eval\n",
        "    else:\n",
        "        min_eval = float('inf')\n",
        "        for child in get_children(position):\n",
        "            eval = alpha_beta(child, depth + 1, alpha, beta, True, scores, max_depth)\n",
        "            min_eval = min(min_eval, eval)\n",
        "            beta = min(beta, eval)\n",
        "            if beta <= alpha:\n",
        "                break\n",
        "        return min_eval\n",
        "\n",
        "scores = {'A': 3, 'B': 5, 'C': 2, 'D': 9, 'E': 12, 'F': 5, 'G': 23}\n",
        "max_depth = 2\n",
        "\n",
        "def get_children(node):\n",
        "    if node == 'A':\n",
        "        return ['B', 'C']\n",
        "    elif node == 'B':\n",
        "        return ['D', 'E']\n",
        "    elif node == 'C':\n",
        "        return ['F', 'G']\n",
        "    else:\n",
        "        return []\n",
        "\n",
        "print(\"Alpha-Beta Score:\", alpha_beta('A', 0, float('-inf'), float('inf'), True, scores, max_depth))"
      ],
      "metadata": {
        "colab": {
          "base_uri": "https://localhost:8080/"
        },
        "id": "AQAVTZ3v029E",
        "outputId": "224d88ca-9f33-400a-93e7-3d9942ea303a"
      },
      "execution_count": 14,
      "outputs": [
        {
          "output_type": "stream",
          "name": "stdout",
          "text": [
            "Alpha-Beta Score: 9\n"
          ]
        }
      ]
    },
    {
      "cell_type": "code",
      "source": [
        "#bfs code:\n",
        "graph={\n",
        "'5':['3','7'],\n",
        "'3':['2','4'],\n",
        "'7':['8'],\n",
        "'2':[],\n",
        "'4':['8'],\n",
        "'8':[]\n",
        "}\n",
        "def bfs(visited,graph,node):\n",
        "    # Indent the lines within the function definition\n",
        "    visited.append(node)\n",
        "    queue.append(node)\n",
        "    while queue:\n",
        "        m=queue.pop(0)\n",
        "        print(m,end=\" \")\n",
        "        for neighbour in graph[m]:\n",
        "            if neighbour not in visited:\n",
        "                visited.append(neighbour)\n",
        "                queue.append(neighbour)\n",
        "visited=[]\n",
        "queue=[]\n",
        "print(\"Graph using BFS:\")\n",
        "bfs(visited, graph,'5')"
      ],
      "metadata": {
        "colab": {
          "base_uri": "https://localhost:8080/"
        },
        "id": "5MXSwFPu1Irh",
        "outputId": "b8588415-f3d7-4cf4-b510-31ae82daefac"
      },
      "execution_count": 16,
      "outputs": [
        {
          "output_type": "stream",
          "name": "stdout",
          "text": [
            "Graph using BFS:\n",
            "5 3 7 2 4 8 "
          ]
        }
      ]
    }
  ]
}