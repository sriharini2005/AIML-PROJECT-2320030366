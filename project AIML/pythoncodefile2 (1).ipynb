{
  "nbformat": 4,
  "nbformat_minor": 0,
  "metadata": {
    "colab": {
      "provenance": []
    },
    "kernelspec": {
      "name": "python3",
      "display_name": "Python 3"
    },
    "language_info": {
      "name": "python"
    }
  },
  "cells": [
    {
      "cell_type": "code",
      "execution_count": 1,
      "metadata": {
        "colab": {
          "base_uri": "https://localhost:8080/"
        },
        "id": "hZSK22FI4NIh",
        "outputId": "235e0aa2-5436-448e-8187-da85b65dde38"
      },
      "outputs": [
        {
          "output_type": "stream",
          "name": "stdout",
          "text": [
            "Assigned Colors are:\n",
            "1 2 3 1 "
          ]
        }
      ],
      "source": [
        "V = 4\n",
        "graph = [[0, 1, 1, 0], [1, 0, 1, 1], [1, 1, 0, 1], [0, 1, 1, 0]]\n",
        "def isValid(v, color, c):\n",
        "    for i in range(V):\n",
        "        if graph[v][i] and c == color[i]:\n",
        "            return False\n",
        "    return True\n",
        "def mColoring(colors, color, vertex):\n",
        "    if vertex == V:\n",
        "        return True\n",
        "    for col in range(1, colors + 1):\n",
        "        if isValid(vertex, color,\n",
        "                   col):\n",
        "            color[vertex] = col\n",
        "            if mColoring(colors, color, vertex + 1):\n",
        "                return True\n",
        "            color[vertex] = 0\n",
        "    return False\n",
        "colors = 3\n",
        "color = [0] * V\n",
        "if not mColoring(\n",
        "        colors, color,\n",
        "        0):\n",
        "    print(\"Solution does not exist.\")\n",
        "else:\n",
        "    print(\"Assigned Colors are:\")\n",
        "    for i in range(V):\n",
        "        print(color[i], end=\" \")\n"
      ]
    }
  ]
}