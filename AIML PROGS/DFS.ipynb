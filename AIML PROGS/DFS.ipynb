{
  "nbformat": 4,
  "nbformat_minor": 0,
  "metadata": {
    "colab": {
      "provenance": []
    },
    "kernelspec": {
      "name": "python3",
      "display_name": "Python 3"
    },
    "language_info": {
      "name": "python"
    }
  },
  "cells": [
    {
      "cell_type": "code",
      "source": [
        "graph = {\n",
        "    'A': ['B', 'C'],\n",
        "    'B': ['D', 'E'],\n",
        "    'C': ['F'],\n",
        "    'D': [],\n",
        "    'E': ['F'],\n",
        "    'F': []\n",
        "}\n",
        "\n",
        "\n",
        "def dfs(graph, start, visited=None):\n",
        "    if visited is None:\n",
        "        visited = set()\n",
        "    visited.add(start)\n",
        "    print(start, end=' ')\n",
        "\n",
        "    for neighbour in graph[start]:\n",
        "        if neighbour not in visited:\n",
        "            dfs(graph, neighbour, visited)\n",
        "    return visited\n",
        "\n",
        "\n",
        "dfs(graph, 'A')"
      ],
      "metadata": {
        "colab": {
          "base_uri": "https://localhost:8080/"
        },
        "id": "fsAa8HHTIm3U",
        "outputId": "be46ffc3-7412-46bc-ba85-496dadf2cdc4"
      },
      "execution_count": 3,
      "outputs": [
        {
          "output_type": "stream",
          "name": "stdout",
          "text": [
            "A B D E F C "
          ]
        },
        {
          "output_type": "execute_result",
          "data": {
            "text/plain": [
              "{'A', 'B', 'C', 'D', 'E', 'F'}"
            ]
          },
          "metadata": {},
          "execution_count": 3
        }
      ]
    }
  ]
}