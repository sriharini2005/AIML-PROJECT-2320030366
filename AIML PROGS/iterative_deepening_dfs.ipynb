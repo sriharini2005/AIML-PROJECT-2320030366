{
  "nbformat": 4,
  "nbformat_minor": 0,
  "metadata": {
    "colab": {
      "provenance": []
    },
    "kernelspec": {
      "name": "python3",
      "display_name": "Python 3"
    },
    "language_info": {
      "name": "python"
    }
  },
  "cells": [
    {
      "cell_type": "code",
      "source": [
        "from collections import defaultdict\n",
        "\n",
        "\n",
        "class Graph:\n",
        "    def __init__(self, vertices):\n",
        "        self.V = vertices\n",
        "        self.graph = defaultdict(list)\n",
        "\n",
        "    def addEdge(self, u, v):\n",
        "        self.graph[u].append(v)\n",
        "\n",
        "    def DLS(self, src, target, maxDepth, path):\n",
        "        path.append(src)\n",
        "\n",
        "        if src == target:\n",
        "            return True\n",
        "\n",
        "        if maxDepth <= 0:\n",
        "            path.pop()  # Backtrack if not found at this level\n",
        "            return False\n",
        "\n",
        "        for i in self.graph[src]:\n",
        "            if self.DLS(i, target, maxDepth - 1, path):\n",
        "                return True\n",
        "\n",
        "        path.pop()  # Backtrack if target not found in any adjacent node\n",
        "        return False\n",
        "\n",
        "    def IDDFS(self, src, target, maxDepth):\n",
        "        path = []\n",
        "\n",
        "        for i in range(maxDepth):\n",
        "            if self.DLS(src, target, i, path):\n",
        "                return path  # Return path if target is found\n",
        "\n",
        "        return None  # Return None if target is not reachable within maxDepth\n",
        "\n",
        "\n",
        "g = Graph(7)\n",
        "g.addEdge(0, 1)\n",
        "g.addEdge(0, 2)\n",
        "g.addEdge(1, 3)\n",
        "g.addEdge(1, 4)\n",
        "g.addEdge(2, 5)\n",
        "g.addEdge(2, 6)\n",
        "\n",
        "target = 6\n",
        "maxDepth = 3\n",
        "src = 0\n",
        "\n",
        "path = g.IDDFS(src, target, maxDepth)\n",
        "if path:\n",
        "    print(f\"Target is reachable from source within max depth. Path: {path}\")\n",
        "else:\n",
        "    print(\"Target is NOT reachable from source within max depth\")"
      ],
      "metadata": {
        "colab": {
          "base_uri": "https://localhost:8080/"
        },
        "id": "B8vAJMv5I9PM",
        "outputId": "1b4d5ff8-e56c-4a84-aabb-cec0c861d116"
      },
      "execution_count": 5,
      "outputs": [
        {
          "output_type": "stream",
          "name": "stdout",
          "text": [
            "Target is reachable from source within max depth. Path: [0, 2, 6]\n"
          ]
        }
      ]
    }
  ]
}